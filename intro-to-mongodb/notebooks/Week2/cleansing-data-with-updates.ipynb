{
 "cells": [
  {
   "cell_type": "code",
   "execution_count": 3,
   "metadata": {},
   "outputs": [
    {
     "name": "stdout",
     "output_type": "stream",
     "text": [
      "Collecting dateparser\n",
      "\u001b[33m  Cache entry deserialization failed, entry ignored\u001b[0m\n",
      "\u001b[33m  Cache entry deserialization failed, entry ignored\u001b[0m\n",
      "  Downloading https://files.pythonhosted.org/packages/ad/0c/aba72d8454c28ab3800f3efd1ab3fe4f3fa41eb2746adc0cdcb318200796/dateparser-0.7.4-py2.py3-none-any.whl (353kB)\n",
      "\u001b[K    100% |████████████████████████████████| 358kB 476kB/s ta 0:00:01\n",
      "\u001b[?25hCollecting tzlocal (from dateparser)\n",
      "\u001b[33m  Cache entry deserialization failed, entry ignored\u001b[0m\n",
      "\u001b[33m  Cache entry deserialization failed, entry ignored\u001b[0m\n",
      "  Downloading https://files.pythonhosted.org/packages/5d/94/d47b0fd5988e6b7059de05720a646a2930920fff247a826f61674d436ba4/tzlocal-2.1-py2.py3-none-any.whl\n",
      "Collecting python-dateutil (from dateparser)\n",
      "  Using cached https://files.pythonhosted.org/packages/d4/70/d60450c3dd48ef87586924207ae8907090de0b306af2bce5d134d78615cb/python_dateutil-2.8.1-py2.py3-none-any.whl\n",
      "Collecting regex!=2019.02.19 (from dateparser)\n",
      "\u001b[33m  Cache entry deserialization failed, entry ignored\u001b[0m\n",
      "  Downloading https://files.pythonhosted.org/packages/fa/cd/cc0c981b9d69345bad895c80bf7e48e43fcef4dc07539a68e4e9160b135c/regex-2020.5.7-cp36-cp36m-manylinux1_x86_64.whl (675kB)\n",
      "\u001b[K    100% |████████████████████████████████| 686kB 494kB/s ta 0:00:01\n",
      "\u001b[?25hCollecting pytz (from dateparser)\n",
      "  Downloading https://files.pythonhosted.org/packages/4f/a4/879454d49688e2fad93e59d7d4efda580b783c745fd2ec2a3adf87b0808d/pytz-2020.1-py2.py3-none-any.whl (510kB)\n",
      "\u001b[K    100% |████████████████████████████████| 512kB 449kB/s ta 0:00:01\n",
      "\u001b[?25hCollecting six>=1.5 (from python-dateutil->dateparser)\n",
      "  Using cached https://files.pythonhosted.org/packages/65/eb/1f97cb97bfc2390a276969c6fae16075da282f5058082d4cb10c6c5c1dba/six-1.14.0-py2.py3-none-any.whl\n",
      "Installing collected packages: pytz, tzlocal, six, python-dateutil, regex, dateparser\n",
      "Successfully installed dateparser-0.7.4 python-dateutil-2.8.1 pytz-2020.1 regex-2020.5.7 six-1.14.0 tzlocal-2.1\n"
     ]
    }
   ],
   "source": [
    "# We're going to install this module to help us parse datetimes from the raw dataset\n",
    "!pip3 install dateparser"
   ]
  },
  {
   "cell_type": "code",
   "execution_count": 4,
   "metadata": {},
   "outputs": [],
   "source": [
    "from pymongo import MongoClient, InsertOne, UpdateOne\n",
    "import pprint\n",
    "import dateparser\n",
    "from bson.json_util import loads"
   ]
  },
  {
   "cell_type": "code",
   "execution_count": null,
   "metadata": {
    "collapsed": true
   },
   "outputs": [],
   "source": [
    "# Replace XXXX with your connection URI from the Atlas UI\n",
    "client = MongoClient(XXXX)\n",
    "people_raw = client.cleansing['people-raw']"
   ]
  },
  {
   "cell_type": "code",
   "execution_count": null,
   "metadata": {
    "collapsed": true
   },
   "outputs": [],
   "source": [
    "batch_size = 1000\n",
    "inserts = []\n",
    "count = 0"
   ]
  },
  {
   "cell_type": "code",
   "execution_count": null,
   "metadata": {
    "collapsed": true
   },
   "outputs": [],
   "source": [
    "# There are over 50,000 lines, so this might take a while...\n",
    "# Make sure to wait until the cell finishes executing before moving on (the * will turn into a number)\n",
    "with open(\"./people-raw.json\") as dataset: \n",
    "    for line in dataset: \n",
    "        inserts.append(InsertOne(loads(line)))\n",
    "        \n",
    "        count += 1\n",
    "                       \n",
    "        if count == batch_size:\n",
    "            people_raw.bulk_write(inserts)\n",
    "            inserts = []\n",
    "            count = 0\n",
    "if inserts:         \n",
    "    people_raw.bulk_write(inserts)\n",
    "    count = 0"
   ]
  },
  {
   "cell_type": "code",
   "execution_count": null,
   "metadata": {
    "collapsed": true
   },
   "outputs": [],
   "source": [
    "# Confirm that 50,474 documents are in your collection before moving on\n",
    "people_raw.count()"
   ]
  },
  {
   "cell_type": "code",
   "execution_count": null,
   "metadata": {
    "collapsed": true
   },
   "outputs": [],
   "source": [
    "# Replace YYYY with a query on the people-raw collection that will return a cursor with only\n",
    "# documents where the birthday field is a string\n",
    "people_with_string_birthdays = YYYY"
   ]
  },
  {
   "cell_type": "code",
   "execution_count": null,
   "metadata": {
    "collapsed": true
   },
   "outputs": [],
   "source": [
    "# This is the answer to verify you completed the lab\n",
    "people_with_string_birthdays.count()"
   ]
  },
  {
   "cell_type": "code",
   "execution_count": null,
   "metadata": {
    "collapsed": true
   },
   "outputs": [],
   "source": [
    "updates = []\n",
    "# Again, we're updating several thousand documents, so this will take a little while\n",
    "for person in people_with_string_birthdays:\n",
    "    # Pymongo converts datetime objects into BSON Dates. The dateparser.parse function returns a\n",
    "    # datetime object, so we can simply do the following to update the field properly.\n",
    "    # Replace ZZZZ with the correct update operator\n",
    "    updates.append(UpdateOne({ \"_id\": person[\"_id\"] }, { ZZZZ: { \"birthday\": dateparser.parse(person[\"birthday\"]) } }))\n",
    "    \n",
    "    count += 1\n",
    "                       \n",
    "    if count == batch_size:\n",
    "        people_raw.bulk_write(updates)\n",
    "        updates = []\n",
    "        count = 0\n",
    "        \n",
    "if updates:         \n",
    "    people_raw.bulk_write(updates)\n",
    "    count = 0"
   ]
  },
  {
   "cell_type": "code",
   "execution_count": null,
   "metadata": {
    "collapsed": true
   },
   "outputs": [],
   "source": [
    "# If everything went well this should be zero\n",
    "people_with_string_birthdays.count()"
   ]
  }
 ],
 "metadata": {
  "kernelspec": {
   "display_name": "Python 3",
   "language": "python",
   "name": "python3"
  },
  "language_info": {
   "codemirror_mode": {
    "name": "ipython",
    "version": 3
   },
   "file_extension": ".py",
   "mimetype": "text/x-python",
   "name": "python",
   "nbconvert_exporter": "python",
   "pygments_lexer": "ipython3",
   "version": "3.6.9"
  }
 },
 "nbformat": 4,
 "nbformat_minor": 2
}
